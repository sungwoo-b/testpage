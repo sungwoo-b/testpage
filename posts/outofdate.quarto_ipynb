{
  "cells": [
    {
      "cell_type": "markdown",
      "metadata": {},
      "source": [
        "---\n",
        "title: \"Out of Date Data\"\n",
        "draft: false\n",
        "image: \"../img/barplot.png\"\n",
        "layout: \"blog\"\n",
        "---"
      ],
      "id": "7187c2c3"
    },
    {
      "cell_type": "code",
      "metadata": {
        "message": false,
        "results": "hide"
      },
      "source": [
        "#| echo: false\n",
        "#| warning: false\n",
        "\n",
        "import pandas as pd\n",
        "import numpy as np\n",
        "import re\n",
        "from itables import init_notebook_mode, show"
      ],
      "id": "d5842ad4",
      "execution_count": null,
      "outputs": []
    },
    {
      "cell_type": "markdown",
      "metadata": {},
      "source": [
        "Data that has been more than 5 days past the last update.\n"
      ],
      "id": "6fb7bcf1"
    },
    {
      "cell_type": "code",
      "metadata": {
        "message": false,
        "results": "hide"
      },
      "source": [
        "#| echo: false\n",
        "#| warning: false\n",
        "\n",
        "def find_outofdate(url: str, threshold: int):\n",
        "    tabs = pd.read_html(url)\n",
        "    table = tabs[1]\n",
        "    table['outOfDate'] = table['outOfDate'].apply(lambda x: float(re.sub(r'[^0-9.]', '', str(x))))\n",
        "    table = table[table['outOfDate'] > threshold]\n",
        "\n",
        "    return table\n",
        "\n",
        "def add_link(val):\n",
        "    url = 'https://polarwatch.noaa.gov/erddap/info/' + val + '/index.html'\n",
        "    return f'<a href=\"{url}\" target=\"_blank\">{val}</a>'"
      ],
      "id": "01e4e0b0",
      "execution_count": null,
      "outputs": []
    },
    {
      "cell_type": "code",
      "metadata": {
        "message": false
      },
      "source": [
        "#| echo: false\n",
        "#| warning: false\n",
        "#| column: page\n",
        "\n",
        "url = 'https://polarwatch.noaa.gov/erddap/outOfDateDatasets.html?&outOfDate%3E=0.5'\n",
        "threshold = 5\n",
        "\n",
        "df = find_outofdate(url, threshold)\n",
        "\n",
        "df = df.copy()\n",
        "df['datasetID'] = df['datasetID'].apply(add_link)\n",
        "\n",
        "show(\n",
        "    df.reset_index(),\n",
        "    buttons=[\"columnsToggle\"],\n",
        ")\n"
      ],
      "id": "94034831",
      "execution_count": null,
      "outputs": []
    }
  ],
  "metadata": {
    "kernelspec": {
      "name": "python3",
      "language": "python",
      "display_name": "Python 3 (ipykernel)",
      "path": "C:\\Users\\User\\AppData\\Roaming\\Python\\share\\jupyter\\kernels\\python3"
    }
  },
  "nbformat": 4,
  "nbformat_minor": 5
}